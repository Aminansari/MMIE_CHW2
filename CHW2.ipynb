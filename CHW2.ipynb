{
  "cells": [
    {
      "cell_type": "markdown",
      "id": "d4c43607",
      "metadata": {
        "id": "d4c43607"
      },
      "source": [
        "<h1 align=\"center\">Mathematical Methods In Engineering - 25872</h1>\n",
        "<h2 align=\"center\">Dr. Amiri</h2>\n",
        "<h4 align=\"center\">Sharif University of Technology, Spring 2023</h4>\n",
        "<h4 align=\"center\">Python Assignment 2</h4>\n",
        "\n"
      ]
    },
    {
      "cell_type": "markdown",
      "id": "7ba7e386",
      "metadata": {
        "id": "7ba7e386"
      },
      "source": [
        "<h4 align=\"left\">The blocks that have “Complete this part” written at the beginning of them need to be completed.</h4>\n",
        "<h4 align=\"left\">Ask your questions from Ehsan Ghasemi(for Q1 and Q2) and Parsa Abedi for (Q3 and Q4)</h4>"
      ]
    },
    {
      "cell_type": "markdown",
      "id": "541ad2dc",
      "metadata": {
        "id": "541ad2dc"
      },
      "source": [
        "## Question 1(30 points)\n"
      ]
    },
    {
      "cell_type": "markdown",
      "id": "acfd2415",
      "metadata": {
        "id": "acfd2415"
      },
      "source": [
        "### Step 1\n",
        "import our needed libraries."
      ]
    },
    {
      "cell_type": "code",
      "execution_count": 133,
      "id": "3e25f53d",
      "metadata": {
        "id": "3e25f53d"
      },
      "outputs": [],
      "source": [
        "import numpy as np"
      ]
    },
    {
      "cell_type": "markdown",
      "id": "0be9841b",
      "metadata": {
        "id": "0be9841b"
      },
      "source": [
        "### Step 2\n",
        "In this exercise, we investigate a numerical method for computing the eigenvalues and eigenvectors of a matrix. First, we create a diagonalizable 3x3 matrix in the following section.\n",
        "\n"
      ]
    },
    {
      "cell_type": "code",
      "execution_count": 197,
      "id": "f17d4808",
      "metadata": {
        "colab": {
          "base_uri": "https://localhost:8080/"
        },
        "id": "f17d4808",
        "outputId": "c96455d5-251a-4f39-ebfd-c99a6c21e108"
      },
      "outputs": [
        {
          "output_type": "stream",
          "name": "stdout",
          "text": [
            "A =  [[-3.94568651 -3.51263538  3.09790938]\n",
            " [-3.51263538  3.6463514   1.03395405]\n",
            " [ 3.09790938  1.03395405  2.85001211]]\n"
          ]
        }
      ],
      "source": [
        "## Do not change anything in this section!\n",
        "\n",
        "W = np.random.randn(3,3)\n",
        "Q,R = np.linalg.qr(W)\n",
        "\n",
        "D = np.random.uniform(low = 1, high = 10, size = 3)\n",
        "D = D * np.random.choice([-1,1],3)\n",
        "\n",
        "A = Q @ np.diag(D) @ Q.T\n",
        "\n",
        "print(\"A = \",A)"
      ]
    },
    {
      "cell_type": "markdown",
      "id": "5e529857",
      "metadata": {
        "id": "5e529857"
      },
      "source": [
        "### Step 3\n",
        "Diagonalize matrix A using the command ‘np.linalg.eig’. At this stage, simply return a diagonal matrix of eigenvalues named D and a matrix V consisting of eigenvectors. Also, reconstruct matrix A using the obtained values and compare it with the previous section.\n",
        "\n"
      ]
    },
    {
      "cell_type": "code",
      "execution_count": 198,
      "id": "a5f1152a",
      "metadata": {
        "colab": {
          "base_uri": "https://localhost:8080/"
        },
        "id": "a5f1152a",
        "outputId": "c0e6157f-6d0c-4080-c254-7929606587c0"
      },
      "outputs": [
        {
          "output_type": "stream",
          "name": "stdout",
          "text": [
            "Eigenvalues =  [-6.46401561  5.0460818   3.96861083] \n",
            "\n",
            "Eigenvectors = \n",
            " [[ 0.88051467  0.40206666  0.25107036]\n",
            " [ 0.33972352 -0.90464917  0.25728933]\n",
            " [-0.33057805  0.14125252  0.93314837]] \n",
            "\n",
            "B =  [[-3.94568651 -3.51263538  3.09790938]\n",
            " [-3.51263538  3.6463514   1.03395405]\n",
            " [ 3.09790938  1.03395405  2.85001211]]\n"
          ]
        }
      ],
      "source": [
        "# Complete this part!\n",
        "\n",
        "## your code here\n",
        "\n",
        "\n",
        "D, V = np.linalg.eig(A)\n",
        "B = V @ np.diag(D) @ np.linalg.inv(V)\n",
        "\n",
        "print(\"Eigenvalues = \", D,\"\\n\") \n",
        "print(\"Eigenvectors = \\n\", V,\"\\n\")\n",
        "print(\"B = \", B)"
      ]
    },
    {
      "cell_type": "markdown",
      "id": "683125e9",
      "metadata": {
        "id": "683125e9"
      },
      "source": [
        "### Step 4\n",
        "Note that multiplying matrix A by any non-zero vector yields a non-zero vector.(why?) Create a non-zero arbitrary vector named x and multiply matrix A by it. Also, normalize the answer. Repeat the same process for higher powers of A, such as 2, 10, 15, and 50. You can use the command 'matrix_power' for this part.\n"
      ]
    },
    {
      "cell_type": "markdown",
      "source": [
        "Answer of why:\n",
        "\n",
        "because of product of two non-zero determinants can not be zero."
      ],
      "metadata": {
        "id": "bEmbfTfVFQh0"
      },
      "id": "bEmbfTfVFQh0"
    },
    {
      "cell_type": "code",
      "execution_count": 199,
      "id": "2d90d5bf",
      "metadata": {
        "colab": {
          "base_uri": "https://localhost:8080/"
        },
        "id": "2d90d5bf",
        "outputId": "4ecbd93e-fe15-431c-e3c3-b6d695435a47"
      },
      "outputs": [
        {
          "output_type": "stream",
          "name": "stdout",
          "text": [
            "x1 =  [-0.10865046  0.44580957  0.88850937] \n",
            "\n",
            "x2 =  [0.37833497 0.68532335 0.62224959] \n",
            "\n",
            "x10 =  [ 0.82440883  0.47803241 -0.30304305] \n",
            "\n",
            "x15 =  [-0.89562096 -0.30023211  0.328213  ] \n",
            "\n",
            "x50 =  [ 0.88051175  0.33973009 -0.33057908] \n",
            "\n"
          ]
        }
      ],
      "source": [
        "# Complete this part!\n",
        "\n",
        "x = np.array([1,2,3])\n",
        "\n",
        "x1 = x @ A / np.linalg.norm(x @ A)\n",
        "x2 = x @ np.linalg.matrix_power(A, 2) / np.linalg.norm(x @ np.linalg.matrix_power(A, 2))\n",
        "x10 = x @ np.linalg.matrix_power(A, 10) / np.linalg.norm(x @ np.linalg.matrix_power(A, 10))\n",
        "x15 = x @ np.linalg.matrix_power(A, 15) / np.linalg.norm(x @ np.linalg.matrix_power(A, 15))\n",
        "x50 = x @ np.linalg.matrix_power(A, 50) / np.linalg.norm(x @ np.linalg.matrix_power(A, 50))\n",
        "\n",
        "print(\"x1 = \",x1,\"\\n\")\n",
        "print(\"x2 = \",x2,\"\\n\")\n",
        "print(\"x10 = \",x10,\"\\n\")\n",
        "print(\"x15 = \",x15,\"\\n\")\n",
        "print(\"x50 = \",x50,\"\\n\")"
      ]
    },
    {
      "cell_type": "markdown",
      "id": "9605ca18",
      "metadata": {
        "id": "9605ca18"
      },
      "source": [
        "### Step 5\n",
        "What pattern do you observe by increasing the power of A? Pay attention to the matrix containing the eigenvectors and compare it with the vectors obtained from this section. Which eigenvalue corresponds to the vector resulting from this process? To ensure the correct interpretation, you can rerun the first section with the new matrix and repeat the same process. Using this result, find the eigenvalue with the largest magnitude of A and its corresponding eigenvector. Based on the presented method, this value is an approximation."
      ]
    },
    {
      "cell_type": "markdown",
      "source": [
        "Answer of question: \n",
        "\n",
        "it converges to eigenvector of largest eigenvalue."
      ],
      "metadata": {
        "id": "rXZ5y5iHFpaL"
      },
      "id": "rXZ5y5iHFpaL"
    },
    {
      "cell_type": "code",
      "execution_count": 200,
      "id": "4a024ec5",
      "metadata": {
        "colab": {
          "base_uri": "https://localhost:8080/"
        },
        "id": "4a024ec5",
        "outputId": "7628ab67-52d2-4fef-b3fd-d8fddf2ff85a"
      },
      "outputs": [
        {
          "output_type": "stream",
          "name": "stdout",
          "text": [
            "Lambda =  -6.464015614475563\n",
            "Eigenvector: \n",
            "  [ 0.88051467  0.33972352 -0.33057805]\n"
          ]
        }
      ],
      "source": [
        "# Complete this part!\n",
        "\n",
        "## you code here\n",
        "\n",
        "Lambda, v = np.linalg.eig(A)\n",
        "\n",
        "idx = np.abs(Lambda).argmax()\n",
        "\n",
        "Lambda_max = Lambda[idx]\n",
        "v_max = V[:, idx]\n",
        "\n",
        "print(\"Lambda = \", Lambda_max)\n",
        "print(\"Eigenvector: \\n \", v_max)"
      ]
    },
    {
      "cell_type": "markdown",
      "id": "660ce45a",
      "metadata": {
        "id": "660ce45a"
      },
      "source": [
        "### Step 6\n",
        "So far, we have been able to obtain the largest eigenvalue (in terms of absolute value) and its corresponding eigenvector. Now, we want to use this method to calculate the other eigenvalues and eigenvectors of the matrix. For this purpose, note that the diagonalizability of a matrix is equivalent to satisfying the following equation.\n",
        "\n",
        "![lagrida_latex_editor (1).png](data:image/png;base64,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)\n",
        "\n",
        "In the above equation, 𝒰ᵢᵀ is the i-th row of the inverse of matrix v. As a result, using the above equation, we can find a matrix whose largest eigenvalue is the second largest eigenvalue of matrix A. In fact, it is sufficient to subtract a rank-one matrix from A. Therefore, by continuing this process, we can obtain the eigenvalues and eigenvectors of A. Based on the points mentioned in the previous section, write a function below that takes a square matrix A and returns a diagonal matrix D and a matrix V of corresponding eigenvectors of D.\n",
        "\n",
        "\n"
      ]
    },
    {
      "cell_type": "code",
      "execution_count": 201,
      "id": "99a56ad7",
      "metadata": {
        "colab": {
          "base_uri": "https://localhost:8080/"
        },
        "id": "99a56ad7",
        "outputId": "c869581d-6384-4aa1-806a-ac237dafd257"
      },
      "outputs": [
        {
          "output_type": "stream",
          "name": "stdout",
          "text": [
            "status: successful\n"
          ]
        }
      ],
      "source": [
        "# Complete this part!\n",
        "\n",
        "def eigen(A):\n",
        "  # input: square matrix A\n",
        "  # output: diagonal matrix D & eigenvector matrix V\n",
        "  # NOTE: the equation \"A = V @ D @ np.linalg.inv(V)\" must hold \n",
        "\n",
        "  # your code here\n",
        "    n = A.shape[0]\n",
        "    D = []\n",
        "    V = []\n",
        "\n",
        "    A_prime = A.copy()\n",
        "    \n",
        "    for i in range(n):\n",
        "        eigval, eigvec = power_method(A_prime, tol=1e-17, max_iter=10000000)\n",
        "        D.append(eigval)\n",
        "        V.append(eigvec)\n",
        "        A_prime -= eigval * np.outer(eigvec, eigvec)\n",
        "\n",
        "    V = np.array(V).T\n",
        "    D = np.array(D)\n",
        "\n",
        "    return D, V\n",
        "\n",
        "def power_method(A, tol=1e-6, max_iter=1000):\n",
        "    n = A.shape[0]\n",
        "    x = np.array([1.0, 1.0, 1.0])\n",
        "    x /= np.linalg.norm(x)\n",
        "    lambda_old = 0.0\n",
        "    \n",
        "    for i in range(max_iter):\n",
        "        y = A @ x\n",
        "        lambda_new = np.dot(x, y)\n",
        "        if abs(lambda_new - lambda_old) < tol:\n",
        "            break\n",
        "        x = y / np.linalg.norm(y)\n",
        "        lambda_old = lambda_new\n",
        "    \n",
        "    return lambda_new, x\n",
        "\n",
        "D, V = eigen(A)\n",
        "\n",
        "\n",
        "assert np.linalg.norm(A - V @ np.diag(D) @ np.linalg.inv(V)) < 1e-6, \"does not satisfy\"\n",
        "\n",
        "print('status: successful')"
      ]
    },
    {
      "cell_type": "markdown",
      "id": "3a301470",
      "metadata": {
        "id": "3a301470"
      },
      "source": [
        "## Question 2 (30 points)\n"
      ]
    },
    {
      "cell_type": "markdown",
      "id": "b3d63ad5",
      "metadata": {
        "id": "b3d63ad5"
      },
      "source": [
        "As you learned in the course, the least squares method is a way of estimating a function given sample points $$(x_i, y_i), \\quad  0 \\leq i \\leq n$$ with the assumption of linearity of the underlying function."
      ]
    },
    {
      "cell_type": "markdown",
      "id": "d972e783",
      "metadata": {
        "id": "d972e783"
      },
      "source": [
        "### step 1\n",
        "Create n=10 sample points $(x_i, y_i)$ where $$y_i = 2x_i + 3 + \\epsilon_i$$ $\\epsilon_i$ is an error term (measurement error etc.) added to $y_i$ and is modeled by random variables: $\\epsilon_i \\stackrel{iid}{\\sim} \\mathcal{N}(0, 1) $  . The x's should range from 0 to 5 and be evenly spaced (hint: use numpy's linspace function)"
      ]
    },
    {
      "cell_type": "code",
      "source": [
        "n = 10\n",
        "x = np.linspace(0, 5, n)\n",
        "eps = np.random.normal(size=n)\n",
        "y = 2*x + 3 + eps\n",
        "\n",
        "print(\"Sample points: \")\n",
        "for i in range(n):\n",
        "    print(f\"({x[i]:.2f}, {y[i]:.2f})\")"
      ],
      "metadata": {
        "colab": {
          "base_uri": "https://localhost:8080/"
        },
        "id": "Pmg32r3G8CEW",
        "outputId": "6ba870ee-b958-4665-f722-ea4a1d1826b9"
      },
      "id": "Pmg32r3G8CEW",
      "execution_count": 59,
      "outputs": [
        {
          "output_type": "stream",
          "name": "stdout",
          "text": [
            "Sample points: \n",
            "(0.00, 2.74)\n",
            "(0.56, 3.44)\n",
            "(1.11, 4.38)\n",
            "(1.67, 5.62)\n",
            "(2.22, 7.04)\n",
            "(2.78, 9.30)\n",
            "(3.33, 8.85)\n",
            "(3.89, 11.39)\n",
            "(4.44, 12.14)\n",
            "(5.00, 12.10)\n"
          ]
        }
      ]
    },
    {
      "cell_type": "markdown",
      "id": "0f52c5b2",
      "metadata": {
        "id": "0f52c5b2"
      },
      "source": [
        "### step 2\n",
        "Given the samples of the previous part, try to estimate a linear function that models the relationship between $x_i$'s and $y_i$'s using the least squares method (find a and b such that the error function $\\sum_{i=0}^{n-1} ||ax_i + b - y_i||^2$ is minimized)"
      ]
    },
    {
      "cell_type": "code",
      "source": [
        "A = np.column_stack([x, np.ones_like(x)])\n",
        "b = y.reshape(-1,1)\n",
        "params = np.linalg.inv(A.T @ A) @ A.T @ b\n",
        "\n",
        "a, b = params[0][0], params[1][0]\n",
        "print(f\"Linear function: y = {a:.2f}x + {b:.2f}\")"
      ],
      "metadata": {
        "colab": {
          "base_uri": "https://localhost:8080/"
        },
        "id": "uV_Dk7ka8Cny",
        "outputId": "c634c7f1-9024-42a0-cce6-fdcfeb106261"
      },
      "id": "uV_Dk7ka8Cny",
      "execution_count": 99,
      "outputs": [
        {
          "output_type": "stream",
          "name": "stdout",
          "text": [
            "Linear function: y = 6.89x + -0.32\n"
          ]
        }
      ]
    },
    {
      "cell_type": "markdown",
      "id": "79aa74fb",
      "metadata": {
        "id": "79aa74fb"
      },
      "source": [
        "### step 3\n",
        "Plot the sample points and the line you estimated in the previous part in the same graph using matplotlib."
      ]
    },
    {
      "cell_type": "code",
      "source": [
        "import matplotlib.pyplot as plt\n",
        "\n",
        "plt.scatter(x, y, label='sample points')\n",
        "plt.plot(x, a*x + b, 'r', label='linear function')\n",
        "plt.xlabel('x')\n",
        "plt.ylabel('y')\n",
        "plt.legend()\n",
        "plt.show()"
      ],
      "metadata": {
        "colab": {
          "base_uri": "https://localhost:8080/",
          "height": 449
        },
        "id": "sMDk381p8DDz",
        "outputId": "127cc761-1234-4e1d-e268-203def3a6c2a"
      },
      "id": "sMDk381p8DDz",
      "execution_count": 100,
      "outputs": [
        {
          "output_type": "display_data",
          "data": {
            "text/plain": [
              "<Figure size 640x480 with 1 Axes>"
            ],
            "image/png": "[encoded data removed]"
          },
          "metadata": {}
        }
      ]
    },
    {
      "cell_type": "markdown",
      "id": "4563d6d7",
      "metadata": {
        "id": "4563d6d7"
      },
      "source": [
        "### step 4\n",
        "Plot the error function $\\sum_{i=0}^{n-1} ||ax_i + b - y_i||^2$ as a function of n where $10\\leq n \\leq 50$ and a and b are the least squares estimates of the line $ax + b = y$."
      ]
    },
    {
      "cell_type": "code",
      "source": [
        "n_range = range(10, 51)\n",
        "\n",
        "error = np.zeros(len(n_range))\n",
        "\n",
        "for i, n in enumerate(n_range):\n",
        "    x = np.linspace(0, 5, n)\n",
        "    eps = np.random.normal(size=n)\n",
        "    y = 2*x + 3 + eps\n",
        "\n",
        "    A = np.column_stack([x, np.ones_like(x)])\n",
        "    b = y.reshape(-1,1)\n",
        "    params = np.linalg.inv(A.T @ A) @ A.T @ b\n",
        "\n",
        "    a, b = params[0][0], params[1][0]\n",
        "\n",
        "    error_func = np.sum((np.linalg.norm(a * x + b - y))**2)\n",
        "\n",
        "    error[i] = error_func\n",
        "\n",
        "# Plot the error function as a function of n\n",
        "plt.plot(n_range, error)\n",
        "plt.xlabel('n')\n",
        "plt.ylabel('Error function')\n",
        "plt.title('Error function of least squares estimates as a function of n')\n",
        "plt.show()"
      ],
      "metadata": {
        "colab": {
          "base_uri": "https://localhost:8080/",
          "height": 472
        },
        "id": "Ktvq2Krk8DfM",
        "outputId": "3644c34c-4e04-4ece-c399-0e255e2d4691"
      },
      "id": "Ktvq2Krk8DfM",
      "execution_count": 117,
      "outputs": [
        {
          "output_type": "display_data",
          "data": {
            "text/plain": [
              "<Figure size 640x480 with 1 Axes>"
            ],
            "image/png": "[encoded data removed]"
          },
          "metadata": {}
        }
      ]
    },
    {
      "cell_type": "markdown",
      "id": "e0f8cb07",
      "metadata": {
        "id": "e0f8cb07"
      },
      "source": [
        "### step 5\n",
        "Repeat part 1 but this time create n=20 sample points with a quadratic term added to y: $$y_i = x^2_i + 2x_i + 3 + \\epsilon_i$$ $\\epsilon_i$ has the same distribution as before and x's range from 0 to 5 likewise."
      ]
    },
    {
      "cell_type": "code",
      "source": [
        "n = 20\n",
        "x = np.linspace(0, 5, n)\n",
        "eps = np.random.normal(size=n)\n",
        "y = x**2 + 2*x + 3 + eps\n",
        "\n",
        "print(\"Sample points: \")\n",
        "for i in range(n):\n",
        "    print(f\"({x[i]:.2f}, {y[i]:.2f})\")"
      ],
      "metadata": {
        "colab": {
          "base_uri": "https://localhost:8080/"
        },
        "id": "zlNqYyjx8EGD",
        "outputId": "996a3dc1-ca72-4b78-e97a-cd83e73008b0"
      },
      "id": "zlNqYyjx8EGD",
      "execution_count": 91,
      "outputs": [
        {
          "output_type": "stream",
          "name": "stdout",
          "text": [
            "Sample points: \n",
            "(0.00, 3.25)\n",
            "(0.26, 3.60)\n",
            "(0.53, 6.05)\n",
            "(0.79, 4.39)\n",
            "(1.05, 7.26)\n",
            "(1.32, 7.27)\n",
            "(1.58, 9.74)\n",
            "(1.84, 9.75)\n",
            "(2.11, 12.90)\n",
            "(2.37, 13.13)\n",
            "(2.63, 16.02)\n",
            "(2.89, 18.95)\n",
            "(3.16, 20.29)\n",
            "(3.42, 23.59)\n",
            "(3.68, 22.91)\n",
            "(3.95, 25.51)\n",
            "(4.21, 28.00)\n",
            "(4.47, 32.55)\n",
            "(4.74, 36.00)\n",
            "(5.00, 37.21)\n"
          ]
        }
      ]
    },
    {
      "cell_type": "markdown",
      "id": "3d021439",
      "metadata": {
        "id": "3d021439"
      },
      "source": [
        "### step 6\n",
        "Try to use the least squares method to estimate the coefficients of the quadratic function given the sample points of part 5 (hint: in the least squares method we minimze the norm of the error vector $||Ax-y||^2$. Add a column to matrix A for the quadratic terms and then try to minimize the error function using the least squares method)."
      ]
    },
    {
      "cell_type": "code",
      "source": [
        "A = np.column_stack([x, np.ones_like(x)])\n",
        "A = np.column_stack([A, x**2])\n",
        "b = y.reshape(-1,1)\n",
        "params = np.linalg.inv(A.T @ A) @ A.T @ b\n",
        "\n",
        "a, b, c = params[2][0], params[0][0], params[1][0]\n",
        "print(f\"Quadratic function: y = {a:.2f}x^2 + {b:.2f}x + {c:.2f}\")"
      ],
      "metadata": {
        "colab": {
          "base_uri": "https://localhost:8080/"
        },
        "id": "Jgimognx8Eo9",
        "outputId": "8f950af8-b7ed-4b41-80ba-f815e48f7758"
      },
      "id": "Jgimognx8Eo9",
      "execution_count": 92,
      "outputs": [
        {
          "output_type": "stream",
          "name": "stdout",
          "text": [
            "Quadratic function: y = 0.89x^2 + 2.46x + 3.19\n"
          ]
        }
      ]
    },
    {
      "cell_type": "markdown",
      "id": "24b8810c",
      "metadata": {
        "id": "24b8810c"
      },
      "source": [
        "### step 7\n",
        "Repeat part 3 for the estimated quadratic function of the previous part."
      ]
    },
    {
      "cell_type": "code",
      "execution_count": 93,
      "id": "b1fe31f0",
      "metadata": {
        "colab": {
          "base_uri": "https://localhost:8080/",
          "height": 449
        },
        "id": "b1fe31f0",
        "outputId": "6d014d5b-b0dd-4f86-d06d-1fd32503ff07"
      },
      "outputs": [
        {
          "output_type": "display_data",
          "data": {
            "text/plain": [
              "<Figure size 640x480 with 1 Axes>"
            ],
            "image/png": "[encoded data removed]"
          },
          "metadata": {}
        }
      ],
      "source": [
        "import numpy as np\n",
        "import matplotlib.pyplot as plt\n",
        "\n",
        "# Complete this part!\n",
        "plt.scatter(x, y, label='sample points')\n",
        "plt.plot(x, a*(x**2) + b*(x) + c, 'r', label='quadratic function')\n",
        "plt.xlabel('x')\n",
        "plt.ylabel('y')\n",
        "plt.legend()\n",
        "plt.show()\n",
        "# ------------------"
      ]
    },
    {
      "cell_type": "markdown",
      "id": "ab291767",
      "metadata": {
        "id": "ab291767"
      },
      "source": [
        "# Question 3 (35 points)"
      ]
    },
    {
      "cell_type": "markdown",
      "id": "fec1a157",
      "metadata": {
        "id": "fec1a157"
      },
      "source": [
        "You have been given a dataset containing information about the selling prices and sizes of different houses in a certain area. You have been asked to build a linear regression model using least squares to predict the selling price of a house based on its size.\n",
        "\n",
        "Tasks:\n",
        "\n",
        "    Complete the following functions to build a linear regression model using least squares and evaluate its performance on the testing set:\n",
        "\n",
        "        scatter_plot: Create a scatter plot of the training data with size on the x-axis and selling price on the y-axis.\n",
        "\n",
        "        compute_slope_intercept: Compute the slope and intercept of the line that best fits the training data using least squares.\n",
        "\n",
        "        evaluate_performance: Evaluate the performance of the model on the testing set using the mean squared error (MSE) and the coefficient of determination (R^2).\n",
        "\n",
        "You can use the numpy library to perform the necessary computations.\n",
        "Pay attention that ypu should only complete the mentioned functions."
      ]
    },
    {
      "cell_type": "code",
      "execution_count": 118,
      "id": "fb97835e",
      "metadata": {
        "colab": {
          "base_uri": "https://localhost:8080/",
          "height": 489
        },
        "id": "fb97835e",
        "outputId": "dcbabb46-bbb3-40f5-df45-28c68739e14c"
      },
      "outputs": [
        {
          "output_type": "display_data",
          "data": {
            "text/plain": [
              "<Figure size 640x480 with 1 Axes>"
            ],
            "image/png": "[encoded data removed]"
          },
          "metadata": {}
        },
        {
          "output_type": "stream",
          "name": "stdout",
          "text": [
            "mse : 1386819.57167649 r squared: 0.9998812710949337\n"
          ]
        }
      ],
      "source": [
        "import pandas as pd\n",
        "import numpy as np\n",
        "import matplotlib.pyplot as plt\n",
        "from sklearn.model_selection import train_test_split\n",
        "\n",
        "# Load the dataset\n",
        "df = pd.read_csv('house_dataset.csv')\n",
        "\n",
        "# Split the dataset into training and testing sets\n",
        "X_train, X_test, y_train, y_test = train_test_split(df['Size'], df['Price'], test_size=0.2, random_state=42)\n",
        "\n",
        "def scatter_plot():\n",
        "    # Create a scatter plot of the training data\n",
        "    plt.scatter(X_train, y_train)\n",
        "    plt.xlabel('Size')\n",
        "    plt.ylabel('Price')\n",
        "    plt.title('Training Data')\n",
        "    plt.show()\n",
        "\n",
        "def compute_slope_intercept():\n",
        "    # Compute the slope and intercept of the line that best fits the training data using least squares\n",
        "    x_mean = np.mean(X_train)\n",
        "    y_mean = np.mean(y_train)\n",
        "    num = np.sum((X_train - x_mean)*(y_train - y_mean))\n",
        "    denom = np.sum((X_train - x_mean)**2)\n",
        "    slope = num / denom\n",
        "    intercept = y_mean - slope * x_mean\n",
        "    return slope, intercept\n",
        "\n",
        "def evaluate_performance(slope, intercept):\n",
        "    # Evaluate the performance of the model on the testing set\n",
        "    y_pred = slope * X_test + intercept\n",
        "    mse = np.mean((y_test - y_pred)**2)\n",
        "    ss_res = np.sum((y_test - y_pred)**2)\n",
        "    ss_tot = np.sum((y_test - np.mean(y_test))**2)\n",
        "    r_squared = 1 - (ss_res / ss_tot)\n",
        "    return mse, r_squared\n",
        "scatter_plot()\n",
        "slope , intercept =compute_slope_intercept()\n",
        "mse , r_squared =evaluate_performance(slope , intercept)\n",
        "print(\"mse :\" , mse , \"r squared:\" , r_squared)"
      ]
    },
    {
      "cell_type": "markdown",
      "id": "0279004e",
      "metadata": {
        "id": "0279004e"
      },
      "source": [
        " # Question 4 (Bonus part)"
      ]
    },
    {
      "cell_type": "markdown",
      "id": "29abad7f",
      "metadata": {
        "id": "29abad7f"
      },
      "source": [
        "You will be given a code that uses the iris dataset and classifies it by Bayesian classifier (you will study classification in a machine learning course).\n",
        "\n",
        "Tasks:\n",
        "\n",
        "    You should only complete parts of the code that are asked to be completed.\n",
        "    Explain what the classifier function does. To do so, you should have a basic knowledge of Bayesian classification.\n",
        "    Investigate what is the iris dataset and what is the history behind it."
      ]
    },
    {
      "cell_type": "markdown",
      "source": [
        "Answer:\n",
        "\n",
        "Bayesian classification is a probabilistic classification method that uses Bayes' theorem to calculate the probability of a certain event occurring. In the context of machine learning, it is a common method for classifying data into different categories based on their probability of belonging to a certain class. The classifier function in this code takes a set of features and uses them to classify the input data into different categories based on their probability of belonging to each class.\n",
        "\n",
        "The Iris flower data set or Fisher's Iris data set is a multivariate data set used and made famous by the British statistician and biologist Ronald Fisher in his 1936 paper The use of multiple measurements in taxonomic problems as an example of linear discriminant analysis.\n",
        " "
      ],
      "metadata": {
        "id": "8cZgOZcMG7MG"
      },
      "id": "8cZgOZcMG7MG"
    },
    {
      "cell_type": "code",
      "execution_count": 120,
      "id": "ad40cc6f",
      "metadata": {
        "id": "ad40cc6f"
      },
      "outputs": [],
      "source": [
        "import pandas as pd\n",
        "from sklearn.datasets import load_iris\n",
        "from sklearn.metrics import confusion_matrix\n",
        "import numpy as np"
      ]
    },
    {
      "cell_type": "markdown",
      "id": "4312a325",
      "metadata": {
        "id": "4312a325"
      },
      "source": [
        "Complete this part:"
      ]
    },
    {
      "cell_type": "code",
      "execution_count": 122,
      "id": "f6c73e98",
      "metadata": {
        "colab": {
          "base_uri": "https://localhost:8080/"
        },
        "id": "f6c73e98",
        "outputId": "d63f23c1-0aaa-4767-dcd9-880cf2ca6c54"
      },
      "outputs": [
        {
          "output_type": "stream",
          "name": "stdout",
          "text": [
            "   sepal length (cm)  sepal width (cm)  petal length (cm)  petal width (cm)  \\\n",
            "0                5.1               3.5                1.4               0.2   \n",
            "1                4.9               3.0                1.4               0.2   \n",
            "2                4.7               3.2                1.3               0.2   \n",
            "3                4.6               3.1                1.5               0.2   \n",
            "4                5.0               3.6                1.4               0.2   \n",
            "\n",
            "   target  \n",
            "0       0  \n",
            "1       0  \n",
            "2       0  \n",
            "3       0  \n",
            "4       0  \n"
          ]
        }
      ],
      "source": [
        "# Load the iris dataset\n",
        "iris = load_iris()\n",
        "\n",
        "# Create a pandas DataFrame from the iris data\n",
        "iris_df = pd.DataFrame(data = np.c_[iris['data'], iris['target']],\n",
        "                       columns = iris['feature_names'] + ['target'])\n",
        "\n",
        "# Add a column for the target variable\n",
        "iris_df['target'] = iris_df['target'].astype(int)\n",
        "\n",
        "# Print the first rows of the DataFrame\n",
        "print(iris_df.head())"
      ]
    },
    {
      "cell_type": "code",
      "execution_count": 123,
      "id": "ca68835f",
      "metadata": {
        "id": "ca68835f"
      },
      "outputs": [],
      "source": [
        "# first we devide out datas into training and test ones:\n",
        "n = 120\n",
        "x_train = iris.data[:n,:]\n",
        "x_test = iris.data[n:,:]\n",
        "y_train = iris.target[:n]\n",
        "y_test = iris.target[n:]"
      ]
    },
    {
      "cell_type": "markdown",
      "id": "0ff199d0",
      "metadata": {
        "id": "0ff199d0"
      },
      "source": [
        "Complete this part:"
      ]
    },
    {
      "cell_type": "code",
      "execution_count": 128,
      "id": "97f0c312",
      "metadata": {
        "id": "97f0c312"
      },
      "outputs": [],
      "source": [
        "# calculation of accuracy:\n",
        "def accuracy(predicted_outcome):\n",
        "    correct_predictions = np.sum(predicted_outcome == y_test)\n",
        "    total_predictions = len(y_test)\n",
        "    Err = (correct_predictions / total_predictions)*100\n",
        "    return Err"
      ]
    },
    {
      "cell_type": "code",
      "execution_count": 129,
      "id": "b2a3ea0d",
      "metadata": {
        "id": "b2a3ea0d"
      },
      "outputs": [],
      "source": [
        "# we define a prediction func and then we complete each part:\n",
        "def predict(Samples):\n",
        "    predictions = np.zeros(len(Samples))\n",
        "    for j in range(len(Samples)):\n",
        "        sample = Samples[j,:]\n",
        "        probs = np.zeros(3)\n",
        "        for i in range(3):\n",
        "            probs[i] = cal_prob(i,sample) * prior_prob[i]\n",
        "        predictions[j] = np.argmax(probs)\n",
        "    return predictions\n",
        "\n",
        "# now we have to define prior probabilities:\n",
        "prior_prob = np.zeros(3)\n",
        "for i in range(len(y_test)):\n",
        "    if y_test[i] == 0:\n",
        "        prior_prob[0]+=1\n",
        "    elif y_test[i] == 1:\n",
        "        prior_prob[1]+=1\n",
        "    elif y_test[i] == 2:\n",
        "        prior_prob[2]+=1\n",
        "for i in range(3):\n",
        "    prior_prob[i] /= len(y_test)\n",
        "\n",
        "# calculation of variance and mean of each class:\n",
        "variances = np.zeros((3,4))\n",
        "means = np.zeros((3,4))\n",
        "for i in range(3):\n",
        "    x_i = x_train[y_train == i ,:]\n",
        "    means[i,:] = x_i.mean(axis =0)\n",
        "    variances[i,:] = x_i.var(axis =0)\n",
        "\n",
        "# calculation of probability:\n",
        "def cal_prob(i , sample):\n",
        "    prob = 1;\n",
        "    for c in range(4):\n",
        "        exp = -((sample[c] - means[i,c])**2) / (2*variances[i,c])\n",
        "        prob *= np.exp(exp)*(1/np.sqrt(2*np.pi*variances[i,c]))\n",
        "    return prob\n",
        "# Baysian classifier:\n",
        "def bay_classifier():\n",
        "    predicted_outcome = predict(x_test)\n",
        "    return predicted_outcome"
      ]
    },
    {
      "cell_type": "code",
      "execution_count": 130,
      "id": "8586358c",
      "metadata": {
        "colab": {
          "base_uri": "https://localhost:8080/"
        },
        "id": "8586358c",
        "outputId": "af20b197-7c7a-413e-967d-2a6dcb742dd4"
      },
      "outputs": [
        {
          "output_type": "stream",
          "name": "stdout",
          "text": [
            "Baysian classifier accuracy:  100.0\n",
            "confusion matrix:\n",
            " [[30]]\n"
          ]
        }
      ],
      "source": [
        "predicted_outcome = bay_classifier()\n",
        "acc = accuracy(predicted_outcome)\n",
        "print(\"Baysian classifier accuracy: \",acc)\n",
        "y_1 = confusion_matrix(y_test,predicted_outcome)\n",
        "print(\"confusion matrix:\\n\",y_1)"
      ]
    }
  ],
  "metadata": {
    "kernelspec": {
      "display_name": "Python 3 (ipykernel)",
      "language": "python",
      "name": "python3"
    },
    "language_info": {
      "codemirror_mode": {
        "name": "ipython",
        "version": 3
      },
      "file_extension": ".py",
      "mimetype": "text/x-python",
      "name": "python",
      "nbconvert_exporter": "python",
      "pygments_lexer": "ipython3",
      "version": "3.9.13"
    },
    "colab": {
      "provenance": []
    }
  },
  "nbformat": 4,
  "nbformat_minor": 5
}