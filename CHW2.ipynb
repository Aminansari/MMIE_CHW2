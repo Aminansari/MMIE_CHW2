{
 "cells": [
  {
   "cell_type": "markdown",
   "id": "d4c43607",
   "metadata": {},
   "source": [
    "<h1 align=\"center\">Mathematical Methods In Engineering - 25872</h1>\n",
    "<h2 align=\"center\">Dr. Amiri</h2>\n",
    "<h4 align=\"center\">Sharif University of Technology, Spring 2023</h4>\n",
    "<h4 align=\"center\">Python Assignment 2</h4>\n",
    "\n"
   ]
  },
  {
   "cell_type": "markdown",
   "id": "7ba7e386",
   "metadata": {},
   "source": [
    "<h4 align=\"left\">The blocks that have “Complete this part” written at the beginning of them need to be completed.</h4>\n",
    "<h4 align=\"left\">Ask your questions from Ehsan Ghasemi(for Q1 and Q2) and Parsa Abedi for (Q3 and Q4)</h4>"
   ]
  },
  {
   "cell_type": "markdown",
   "id": "541ad2dc",
   "metadata": {},
   "source": [
    "## Question 1(30 points)\n"
   ]
  },
  {
   "cell_type": "markdown",
   "id": "acfd2415",
   "metadata": {},
   "source": [
    "### Step 1\n",
    "import our needed libraries."
   ]
  },
  {
   "cell_type": "code",
   "execution_count": 1,
   "id": "3e25f53d",
   "metadata": {},
   "outputs": [],
   "source": [
    "import numpy as np"
   ]
  },
  {
   "cell_type": "markdown",
   "id": "0be9841b",
   "metadata": {},
   "source": [
    "### Step 2\n",
    "In this exercise, we investigate a numerical method for computing the eigenvalues and eigenvectors of a matrix. First, we create a diagonalizable 3x3 matrix in the following section.\n",
    "\n"
   ]
  },
  {
   "cell_type": "code",
   "execution_count": null,
   "id": "f17d4808",
   "metadata": {},
   "outputs": [],
   "source": [
    "## Do not change anything in this section!\n",
    "\n",
    "W = np.random.randn(3,3)\n",
    "Q,R = np.linalg.qr(W)\n",
    "\n",
    "D = np.random.uniform(low = 1, high = 10, size = 3)\n",
    "D = D * np.random.choice([-1,1],3)\n",
    "\n",
    "A = Q @ np.diag(D) @ Q.T\n",
    "\n",
    "print(\"A = \",A)"
   ]
  },
  {
   "cell_type": "markdown",
   "id": "5e529857",
   "metadata": {},
   "source": [
    "### Step 3\n",
    "Diagonalize matrix A using the command ‘np.linalg.eig’. At this stage, simply return a diagonal matrix of eigenvalues named D and a matrix V consisting of eigenvectors. Also, reconstruct matrix A using the obtained values and compare it with the previous section.\n",
    "\n"
   ]
  },
  {
   "cell_type": "code",
   "execution_count": null,
   "id": "a5f1152a",
   "metadata": {},
   "outputs": [],
   "source": [
    "# Complete this part!\n",
    "\n",
    "## your code here\n",
    "\n",
    "\n",
    "D = ...  # your code here\n",
    "V = ...  # your code here\n",
    "B = ... # your code here\n",
    "\n",
    "print(\"Eigenvalues = \", (D @ np.array([[1],[1],[1]])).T,\"\\n\") \n",
    "print(\"Eigenvectors = \\n\", V,\"\\n\")\n",
    "print(\"B = \", B)"
   ]
  },
  {
   "cell_type": "markdown",
   "id": "683125e9",
   "metadata": {},
   "source": [
    "### Step 4\n",
    "Note that multiplying matrix A by any non-zero vector yields a non-zero vector.(why?) Create a non-zero arbitrary vector named x and multiply matrix A by it. Also, normalize the answer. Repeat the same process for higher powers of A, such as 2, 10, 15, and 50. You can use the command 'matrix_power' for this part.\n"
   ]
  },
  {
   "cell_type": "code",
   "execution_count": null,
   "id": "2d90d5bf",
   "metadata": {},
   "outputs": [],
   "source": [
    "# Complete this part!\n",
    "\n",
    "x = ... # your code here\n",
    "\n",
    "x1 = ... # your code here\n",
    "x2 = ... # your code here\n",
    "x10 = ... # your code here\n",
    "x15 = ... # your code here\n",
    "x50 = ... # your code here\n",
    "\n",
    "print(\"x1 = \",x1,\"\\n\")\n",
    "print(\"x2 = \",x2,\"\\n\")\n",
    "print(\"x10 = \",x10,\"\\n\")\n",
    "print(\"x15 = \",x15,\"\\n\")\n",
    "print(\"x50 = \",x50,\"\\n\")"
   ]
  },
  {
   "cell_type": "markdown",
   "id": "9605ca18",
   "metadata": {},
   "source": [
    "### Step 5\n",
    "What pattern do you observe by increasing the power of A? Pay attention to the matrix containing the eigenvectors and compare it with the vectors obtained from this section. Which eigenvalue corresponds to the vector resulting from this process? To ensure the correct interpretation, you can rerun the first section with the new matrix and repeat the same process. Using this result, find the eigenvalue with the largest magnitude of A and its corresponding eigenvector. Based on the presented method, this value is an approximation."
   ]
  },
  {
   "cell_type": "code",
   "execution_count": null,
   "id": "4a024ec5",
   "metadata": {},
   "outputs": [],
   "source": [
    "# Complete this part!\n",
    "\n",
    "## you code here\n",
    "\n",
    "Lambda = ...# your code here    Eigenvalue\n",
    "v = ... # your code here        Corresponding eigenvector\n",
    "\n",
    "print(\"Lambda = \", Lambda)\n",
    "print(\"Eigenvector: \\n \", v)"
   ]
  },
  {
   "cell_type": "markdown",
   "id": "660ce45a",
   "metadata": {},
   "source": [
    "### Step 6\n",
    "So far, we have been able to obtain the largest eigenvalue (in terms of absolute value) and its corresponding eigenvector. Now, we want to use this method to calculate the other eigenvalues and eigenvectors of the matrix. For this purpose, note that the diagonalizability of a matrix is equivalent to satisfying the following equation.\n",
    "\n",
    "![lagrida_latex_editor (1).png](data:image/png;base64,iVBORw0KGgoAAAANSUhEUgAAAPgAAAA+CAYAAAAGYNaiAAAAAXNSR0IArs4c6QAADeZJREFUeF7tnQXMdUcRht/ixYoUC9Yiwd0dSou7uxV3d6cFWtw9uLt7cCgW3D24BopLgDx/ZpL9T/bes/ecvffYTPLla//vnJXZfWdn3p3ds49CQgOhgdlqYJ/Z9iw6FhoIDWhJAL+hpDdIeryk50l6rKSzSHq7pKfEXAgNzFEDSwL4/yRdTdJ7JH1e0pMkvVHSlyQ9Q9LL5jjA0adla2BJAP+IpCNsFb+4pG9KOq6koyXdKQC+bCDMtfdLAjhj+GRJF5J0BRvQG0t6iaRzS/rxXAc5+rVcDSwN4F+W9CFJ97chJxY/nqTbSjqnrerLnQ3R89lpYEkAP4Okn9jq/VEbyS8Y6bavpBNJev7sRjg6tGgNLAngl5dEHJ72mf+HdLuIpBsteiZE52epgSUBnAEk/v5iYyQBvq/osxzk6NRyNbA0gC93pKPni9RAAHyRwx6dXooGAuBLGeno5yI1MHWAP3qHo/ZhSZ/YYX1RVWigtwbmAPBHJVqALPur/fxd0j8k8ZuffzW0dQJJJ0l+TibJf06c0ez7JV2lt8anVQAEZIkESVmipQGemTrAUdm7JF090d3TJd2npy73l3QtSde2314cyTDf6ln2VF7nIM73JH3A8gd+Lenhdjjn22YwHyHpMZJ26UlNRX+7bOf5JV1H0uWSLM099c8B4Oex7LRTJhq9taRXVNLwVSU9006eMZGZ0EuQe0j6c5Kjfw1J75R0SUmfMQW8VNKbzcguQSdj7CO5HL+XdHJrnKdhzwbgdOR2llPuA/AHs2RfrTgiTObLSMJa/qViuWMtCjBfM2kcxo1wKF0UfmSA/+VYO7GgdgF0pBfAz2TJIhyzHJuQV37npFGQYgdXbuTbJL1vASmteEN3aXgrn7KVgtDFBcDP2aNxDmIKHEMVgL9A0oUN5JWx07s4CDMOkpCt5sJFDn6wpHcFkk5vrv9eVjJT8AH23DfMxf1sjcoHLMPjcY7VvnDAduSqZrxTTyN9pskN5LgCwLsKwK+SdDFJZ23p8yoOolk2BiNHXNbgMHoDnCD+rZIgW049skH25hxipFDavBtYnLjrJjMxPmiHWDAMP9t1AyrWRzwODzFGktHDBsb5XHbs9+XW9xzA/Tm8UO4E4KKP3FFhdlR+JenYki7bskXKTUGURVt+axeJ8LtZP/p7qKSbS8L4v8l+1/CIewGc1ZECiD+R40j6d8UJVLMoFHh4UiCKv6INVs16Ssp6saRD7TjqlG+MwbDDP7C7MFZxjoBVc52H5QahbdW8jSR4F+Rhduqwre/cGoRQ/yqvAJBzwInbhZibTXGgrqsL49E8HNUL4NxjxqrNuWnkwJFfkPAWSddNNPQiSXdsG50t/B1LjZvHgKZbeVuoaqtFsl3GZGTbcKyCIcWg/lzS6VY0kvG4u63IbQsURo1cCbzC0hyIn1rdd7C25JqBdwGfUTvU6QxwLM7HzXqzbXJCSZe2Ro51sM9sg8JvFyyyu267ajduHuDg90XtLrhd1V2zHlamsY/5lY0Apd85D5MxOErS/Wy7b51+ePb7kh4n6amS/mvbpOwarJNPS7qErfas+k2h7ktJul7NwbGyOgOcFYi4m8Z91wgHrjoi7hizsIKzkrv8wqxxzi3aZj/cTSdsIFGkixAacRtNUyBsOP6K4S0RcgZYZf5Y8DDEFRMdwhB3lh/cTrbJxsgqnz1JQmIFZyVPBQ7hmJLuVtB3VnoMBuDmUk6EXYW2C0FeK+kmknIeI+Q0CyXxPBeN1BIWLsaIJBcE3udsksgFaU10Ianhk5K4DQWSCFflSgZ2Oj928bjM28nebrrNs4v2+0UTX5N03g0rxHvC6yBbjxADd9ENFIk8t7RYrI2kAdjvNnATXrG7kF4V/RxJd5XEZZTO+BOrUtefknkCiUUWGyHH2ISrt0hJRi7QMIjXl3SkgasJ/Fw/WNSYK6+3+c+qyxZpGvbl3nuCpAeveBbscJbhsMqKY5y4qeg0doko6dlcJrpn+7Itkw1Lw+RyQgLSAYvxREkPKWxo15UeIqHE2rY1A6aSAXYZIhuNdE/ASS47A10quJQA/GPGtqYEEnrlrveSVFHCBK6JZtLiyTSJKIB8joL5UNru9DkmHsapLebNlQ2DTaxamkjDc3BF8B2pEcK1BlhcsNkmeC0/lIRHAIv+QLuN92/mpq9rC3kY5GMQYxPSuNxbEuw9qzfu/s5kHcAfZPuLaUMh2wA2rgouS4mUHljIlVXDFSSFj4lNbOTSnAAl/ejzjHsSz11jtHyP1I0p/w+4z2gJPEyc2yeTlNWd1ZZJ9eqkcc1yWOUfYN6DT8DUKODOsSoTArDybUMwRF2lzTtJyyWFFi/kvpKeZn/A02SbsrQNuOe3kESKMuL64b8hmdfthmDA3yvpO2YgeAeDgVEl7t6557MK4Fivr2cywZg8uASvk3TTriM2wHtMXEKN41vdpLASasAtbFuIwSH70B1hDrrlxFtTADZWHkNETJ1mUeEyMvFIuID8cYFY4WBNGp+vK8djxNQV9zRfAAEwpizePxKyMGbns7iX+DTHYeT6iq7xaFjMXAAmgG+b98TZfFTjd5JOYS/jQRIW3GsIxa4COJ/zyR2ZpI1MPNI13cIN0e4udabxOKvCLi5Z/IqduuJSR+cvbiaJiVgqTBRWWFZr9k5dSCclhIIfKRGIGFzVpnsOGHChOUxCnJ6Tqdxb5zGw9xGdATDCkxLhZl2SXkjqSs/+e6IPZxxI14aXyIln/PE3sIVO+dgG+iPk3LnkAA57CiFBTNYU0j5RFswt1qpESl2jXFmbuGclbYHFZBXHlcLKblOaSQ8e3uBO4wKWihsmVmqOwroQ12E4WNlLxMuB1yBUcMFIkO4JSfXPTEG8h2Fhm6+rsIKWxp4+J/03/EOpeAjCiom+2I/GUysVgAjPBBGZSgpc8AEvlRMSgRzIeG3MN2L415Q2oPZzOYBz9AxF5cCFwiA9iClOW9gYyCAuW2DypL/57/+0lNGWbVTYhD2PwRRDEALubd/MAqvJyppmNAEQVhRWAVxtfiPE0jDi+xkR10ybdGDC4MLkumBAiK9xKTcpp5llRTkef+NlEFI0x57J+oNNlN14tivRSjGbeFoeA3v1GBZAVirwToRQntCVvkc4hAFggQO0OTlWQibiqUGsEgINJk2AAwIm3KpUPyy5u3FtDPxgncpU/Ehjm9dlGNVqL8YDYpKTbJxoS4XDMKTNsoI7MQZji9vHBAKsTabXAZ4CEw+LLas0O66tHHczU4KRmB8w4xmQ1AGIT1pLEQOUw9wlxxvhg5J4OZsIsTbv5XY6fBww0nAYqwTuirFhPO9pXNYmbaj6rIOUxqMcd6efZY1LK+MZUhU9H92PCdZcZat2zgrjBBSsP6DAQm9TPJNpVVKE5zenbjptg7xhQhAWEW+n4p89Zt+aGBNXn5i5aWDbysFVZeI6g85kxm0G8PwbbD2JILeyytnectcSt3QKZ+DhjYiP8TAxsm2ZZ65n5gY5CiS3YCDgmPwUIvpn5ebwkJ9UXDf3ayQ2VZujTBKAnXODUuCuOuZGQ8YMcD8BB9HShwsoVTgeUO4UUdNQYmggKX0bkPcu2NjKS98hUYVYmx/4D/qVk7ZyqJO9WBI32MrBo2H8YJvZp07nwTssKQjDwyqfxu2l+hjiOUKOJl/R1o7cHPZ/Y96wIudk1XsshHhcJRmDbW3r9fcpudmbdpTtJnYDyCDDLR6rsOqw9cU2Few6bHeX/f9a5bie2A4F2Kxo6JKkm5CJaWCuACemBdwww22H9YcesvSbadxvxqmoLpY/LYeTUBBFXcppehucO8jtqAytt6i/QANzBDhH/AA3wCaurCm4ssTPfE+8pnzOtrwgAyG7uoqXs8k25rq6IIyI28kE/E18XrnrsAz33hwBDgAPMtKkdnIBLDfu9Jh5h1qzyT0C9oQJc4jd/WRVrTqinC1rYG4AJ+8YFpgMotoxI9snbHuQXFLzuN+Wh7hX8fST/XluyamddNSrYfFymQbmBHCYaQ7Zk2CwKtOoTCt7P0UWE4QTe9fEyOwdh4QGJqGBuQCc/WX2gQF3eslDl0Eg9xuSjiwotpXS03B4B6/sUmi8ExoYQgNzADgghFTjtBiyrk+cEiIu55zxqezsMKQcQgYXwObAQU64TMBPow0xVlFnaGBjDUwd4CSHkJBRmhe/sYKSF3Z1Aq1PG+Pd0MBeGpg6wImNj1FhTP3k17qi2C7yb3JVqDKKCA1sXwNTB/j2NRQ1hAYmrIEA+IQHL5oeGmjTQAC8TUPx99DAhDUwR4BzZp1ts00uCsgNIdlwfOC+7UODEx7+aPrcNTBHgJNGSg567laOkvGEuOPzNs+2PfAAeInW4plRamCOAK+laIBOkksAvJZGo5yda2BuAOemE64u4mqkvhIA76vBeH9wDcwJ4Oxlk83GNUSA0y9NSK8abircs9j49+ZhigD44NMzGtBXA3MBOLegEDNzigygQ7A5YAFqifg9W/4ssTz56OGil2gvnhmlBuYCcJTrd67xDSou0Mvd8b3JIATAN9FWPDtKDcwJ4CiYQydcSpBeyNDVRQ+Aj3LKRqM20cCcAO5fn8Cl5iZQgM2H4MJF32RGxLOz0sCcAM59aXyNk6+fcud3177xdQzIN64qJgb32LzLTaezmizRmelpoCsIxtpT/85Wn36x4kPaOcN+tH2FlNtiQkIDk9JAHyBMqqPR2NDAEjUQAF/iqEefF6OBAPhihjo6ukQN/B//0o5dJUdnyAAAAABJRU5ErkJggg==)\n",
    "\n",
    "In the above equation, 𝒰ᵢᵀ is the i-th row of the inverse of matrix v. As a result, using the above equation, we can find a matrix whose largest eigenvalue is the second largest eigenvalue of matrix A. In fact, it is sufficient to subtract a rank-one matrix from A. Therefore, by continuing this process, we can obtain the eigenvalues and eigenvectors of A. Based on the points mentioned in the previous section, write a function below that takes a square matrix A and returns a diagonal matrix D and a matrix V of corresponding eigenvectors of D.\n",
    "\n",
    "\n"
   ]
  },
  {
   "cell_type": "code",
   "execution_count": null,
   "id": "99a56ad7",
   "metadata": {},
   "outputs": [],
   "source": [
    "# Complete this part!\n",
    "\n",
    "def eigen(A):\n",
    "  # input: square matrix A\n",
    "  # output: diagonal matrix D & eigenvector matrix V\n",
    "  # NOTE: the equation \"A = V @ D @ np.linalg.inv(V)\" must hold \n",
    "\n",
    "  # your code here\n",
    "\n",
    "\n",
    "\n",
    "  return D, V"
   ]
  },
  {
   "cell_type": "markdown",
   "id": "3a301470",
   "metadata": {},
   "source": [
    "## Question 2 (30 points)\n"
   ]
  },
  {
   "cell_type": "markdown",
   "id": "b3d63ad5",
   "metadata": {},
   "source": [
    "As you learned in the course, the least squares method is a way of estimating a function given sample points $$(x_i, y_i), \\quad  0 \\leq i \\leq n$$ with the assumption of linearity of the underlying function."
   ]
  },
  {
   "cell_type": "markdown",
   "id": "d972e783",
   "metadata": {},
   "source": [
    "### step 1\n",
    "Create n=10 sample points $(x_i, y_i)$ where $$y_i = 2x_i + 3 + \\epsilon_i$$ $\\epsilon_i$ is an error term (measurement error etc.) added to $y_i$ and is modeled by random variables: $\\epsilon_i \\stackrel{iid}{\\sim} \\mathcal{N}(0, 1) $  . The x's should range from 0 to 5 and be evenly spaced (hint: use numpy's linspace function)"
   ]
  },
  {
   "cell_type": "markdown",
   "id": "0f52c5b2",
   "metadata": {},
   "source": [
    "### step 2\n",
    "Given the samples of the previous part, try to estimate a linear function that models the relationship between $x_i$'s and $y_i$'s using the least squares method (find a and b such that the error function $\\sum_{i=0}^{n-1} ||ax_i + b - y_i||^2$ is minimized)"
   ]
  },
  {
   "cell_type": "markdown",
   "id": "79aa74fb",
   "metadata": {},
   "source": [
    "### step 3\n",
    "Plot the sample points and the line you estimated in the previous part in the same graph using matplotlib."
   ]
  },
  {
   "cell_type": "markdown",
   "id": "4563d6d7",
   "metadata": {},
   "source": [
    "### step 4\n",
    "Plot the error function $\\sum_{i=0}^{n-1} ||ax_i + b - y_i||^2$ as a function of n where $10\\leq n \\leq 50$ and a and b are the least squares estimates of the line $ax + b = y$."
   ]
  },
  {
   "cell_type": "markdown",
   "id": "e0f8cb07",
   "metadata": {},
   "source": [
    "### step 5\n",
    "Repeat part 1 but this time create n=20 sample points with a quadratic term added to y: $$y_i = x^2_i + 2x_i + 3 + \\epsilon_i$$ $\\epsilon_i$ has the same distribution as before and x's range from 0 to 5 likewise."
   ]
  },
  {
   "cell_type": "markdown",
   "id": "3d021439",
   "metadata": {},
   "source": [
    "### step 6\n",
    "Try to use the least squares method to estimate the coefficients of the quadratic function given the sample points of part 5 (hint: in the least squares method we minimze the norm of the error vector $||Ax-y||^2$. Add a column to matrix A for the quadratic terms and then try to minimize the error function using the least squares method)."
   ]
  },
  {
   "cell_type": "markdown",
   "id": "24b8810c",
   "metadata": {},
   "source": [
    "### step 7\n",
    "Repeat part 3 for the estimated quadratic function of the previous part."
   ]
  },
  {
   "cell_type": "code",
   "execution_count": 2,
   "id": "b1fe31f0",
   "metadata": {},
   "outputs": [],
   "source": [
    "import numpy as np\n",
    "import matplotlib.pyplot as plt\n",
    "\n",
    "# Complete this part!\n",
    "#... \n",
    "# ------------------"
   ]
  },
  {
   "cell_type": "markdown",
   "id": "ab291767",
   "metadata": {},
   "source": [
    "# Question 3 (35 points)"
   ]
  },
  {
   "cell_type": "markdown",
   "id": "fec1a157",
   "metadata": {},
   "source": [
    "You have been given a dataset containing information about the selling prices and sizes of different houses in a certain area. You have been asked to build a linear regression model using least squares to predict the selling price of a house based on its size.\n",
    "\n",
    "Tasks:\n",
    "\n",
    "    Complete the following functions to build a linear regression model using least squares and evaluate its performance on the testing set:\n",
    "\n",
    "        scatter_plot: Create a scatter plot of the training data with size on the x-axis and selling price on the y-axis.\n",
    "\n",
    "        compute_slope_intercept: Compute the slope and intercept of the line that best fits the training data using least squares.\n",
    "\n",
    "        evaluate_performance: Evaluate the performance of the model on the testing set using the mean squared error (MSE) and the coefficient of determination (R^2).\n",
    "\n",
    "You can use the numpy library to perform the necessary computations.\n",
    "Pay attention that ypu should only complete the mentioned functions."
   ]
  },
  {
   "cell_type": "code",
   "execution_count": 2,
   "id": "fb97835e",
   "metadata": {},
   "outputs": [
    {
     "data": {
      "image/png": "[encoded data removed]",
      "text/plain": [
       "<Figure size 640x480 with 1 Axes>"
      ]
     },
     "metadata": {},
     "output_type": "display_data"
    },
    {
     "name": "stdout",
     "output_type": "stream",
     "text": [
      "mse : 1386819.57167649 r squared: 0.9998812710949337\n"
     ]
    }
   ],
   "source": [
    "import pandas as pd\n",
    "import numpy as np\n",
    "import matplotlib.pyplot as plt\n",
    "from sklearn.model_selection import train_test_split\n",
    "\n",
    "# Load the dataset\n",
    "df = pd.read_csv('house_dataset.csv')\n",
    "\n",
    "# Split the dataset into training and testing sets\n",
    "X_train, X_test, y_train, y_test = train_test_split(df['Size'], df['Price'], test_size=0.2, random_state=42)\n",
    "\n",
    "def scatter_plot():\n",
    "    # Create a scatter plot of the training data\n",
    "\n",
    "\n",
    "def compute_slope_intercept():\n",
    "    # Compute the slope and intercept of the line that best fits the training data using least squares\n",
    "\n",
    "    return slope, intercept\n",
    "\n",
    "def evaluate_performance(slope, intercept):\n",
    "    # Evaluate the performance of the model on the testing set\n",
    "\n",
    "    return mse, r_squared\n",
    "scatter_plot()\n",
    "slope , intercept =compute_slope_intercept()\n",
    "mse , r_squared =evaluate_performance(slope , intercept)\n",
    "print(\"mse :\" , mse , \"r squared:\" , r_squared)"
   ]
  },
  {
   "cell_type": "markdown",
   "id": "0279004e",
   "metadata": {},
   "source": [
    " # Question 4 (Bonus part)"
   ]
  },
  {
   "cell_type": "markdown",
   "id": "29abad7f",
   "metadata": {},
   "source": [
    "You will be given a code that uses the iris dataset and classifies it by Bayesian classifier (you will study classification in a machine learning course).\n",
    "\n",
    "Tasks:\n",
    "\n",
    "    You should only complete parts of the code that are asked to be completed.\n",
    "    Explain what the classifier function does. To do so, you should have a basic knowledge of Bayesian classification.\n",
    "    Investigate what is the iris dataset and what is the history behind it.\n",
    "\n",
    "Bayesian classification is a probabilistic classification method that uses Bayes' theorem to calculate the probability of a certain event occurring. In the context of machine learning, it is a common method for classifying data into different categories based on their probability of belonging to a certain class. The classifier function in this code takes a set of features and uses them to classify the input data into different categories based on their probability of belonging to each class\n",
    " "
   ]
  },
  {
   "cell_type": "code",
   "execution_count": 1,
   "id": "ad40cc6f",
   "metadata": {},
   "outputs": [],
   "source": [
    "import pandas as pd\n",
    "from sklearn.datasets import load_iris\n",
    "from sklearn.metrics import confusion_matrix\n",
    "import numpy as np"
   ]
  },
  {
   "cell_type": "markdown",
   "id": "4312a325",
   "metadata": {},
   "source": [
    "Complete this part:"
   ]
  },
  {
   "cell_type": "code",
   "execution_count": 2,
   "id": "f6c73e98",
   "metadata": {},
   "outputs": [
    {
     "name": "stdout",
     "output_type": "stream",
     "text": [
      "   sepal length (cm)  sepal width (cm)  petal length (cm)  petal width (cm)  \\\n",
      "0                5.1               3.5                1.4               0.2   \n",
      "1                4.9               3.0                1.4               0.2   \n",
      "2                4.7               3.2                1.3               0.2   \n",
      "3                4.6               3.1                1.5               0.2   \n",
      "4                5.0               3.6                1.4               0.2   \n",
      "\n",
      "   target  \n",
      "0       0  \n",
      "1       0  \n",
      "2       0  \n",
      "3       0  \n",
      "4       0  \n"
     ]
    }
   ],
   "source": [
    "# Load the iris dataset\n",
    "\n",
    "# Create a pandas DataFrame from the iris data\n",
    "\n",
    "# Add a column for the target variable\n",
    "\n",
    "# Print the first rows of the DataFrame\n"
   ]
  },
  {
   "cell_type": "code",
   "execution_count": 3,
   "id": "ca68835f",
   "metadata": {},
   "outputs": [],
   "source": [
    "# first we devide out datas into training and test ones:\n",
    "n = 120\n",
    "x_train = iris.data[:n,:]\n",
    "x_test = iris.data[n:,:]\n",
    "y_train = iris.target[:n]\n",
    "y_test = iris.target[n:]"
   ]
  },
  {
   "cell_type": "markdown",
   "id": "0ff199d0",
   "metadata": {},
   "source": [
    "Complete this part:"
   ]
  },
  {
   "cell_type": "code",
   "execution_count": 4,
   "id": "97f0c312",
   "metadata": {},
   "outputs": [],
   "source": [
    "# calculation of accuracy:\n",
    "def accuracy(predicted_outcome):\n",
    "    \n",
    "    return Err"
   ]
  },
  {
   "cell_type": "code",
   "execution_count": 5,
   "id": "b2a3ea0d",
   "metadata": {},
   "outputs": [],
   "source": [
    "# we define a prediction func and then we complete each part:\n",
    "def predict(Samples):\n",
    "    predictions = np.zeros(len(Samples))\n",
    "    for j in range(len(Samples)):\n",
    "        sample = Samples[j,:]\n",
    "        probs = np.zeros(3)\n",
    "        for i in range(3):\n",
    "            probs[i] = cal_prob(i,sample) * prior_prob[i]\n",
    "        predictions[j] = np.argmax(probs)\n",
    "    return predictions\n",
    "\n",
    "# now we have to define prior probabilities:\n",
    "prior_prob = np.zeros(3)\n",
    "for i in range(len(y_test)):\n",
    "    if y_test[i] == 0:\n",
    "        prior_prob[0]+=1\n",
    "    elif y_test[i] == 1:\n",
    "        prior_prob[1]+=1\n",
    "    elif y_test[i] == 2:\n",
    "        prior_prob[2]+=1\n",
    "for i in range(3):\n",
    "    prior_prob[i] /= len(y_test)\n",
    "\n",
    "# calculation of variance and mean of each class:\n",
    "variances = np.zeros((3,4))\n",
    "means = np.zeros((3,4))\n",
    "for i in range(3):\n",
    "    x_i = x_train[y_train == i ,:]\n",
    "    means[i,:] = x_i.mean(axis =0)\n",
    "    variances[i,:] = x_i.var(axis =0)\n",
    "\n",
    "# calculation of probability:\n",
    "def cal_prob(i , sample):\n",
    "    prob = 1;\n",
    "    for c in range(4):\n",
    "        exp = -((sample[c] - means[i,c])**2) / (2*variances[i,c])\n",
    "        prob *= np.exp(exp)*(1/np.sqrt(2*np.pi*variances[i,c]))\n",
    "    return prob\n",
    "# Baysian classifier:\n",
    "def bay_classifier():\n",
    "    predicted_outcome = predict(x_test)\n",
    "    return predicted_outcome"
   ]
  },
  {
   "cell_type": "code",
   "execution_count": 6,
   "id": "8586358c",
   "metadata": {},
   "outputs": [
    {
     "name": "stdout",
     "output_type": "stream",
     "text": [
      "Baysian classifier accuracy:  100.0\n",
      "confusion matrix:\n",
      " [[30]]\n"
     ]
    }
   ],
   "source": [
    "predicted_outcome = bay_classifier()\n",
    "acc = accuracy(predicted_outcome)\n",
    "print(\"Baysian classifier accuracy: \",acc)\n",
    "y_1 = confusion_matrix(y_test,predicted_outcome)\n",
    "print(\"confusion matrix:\\n\",y_1)"
   ]
  }
 ],
 "metadata": {
  "kernelspec": {
   "display_name": "Python 3 (ipykernel)",
   "language": "python",
   "name": "python3"
  },
  "language_info": {
   "codemirror_mode": {
    "name": "ipython",
    "version": 3
   },
   "file_extension": ".py",
   "mimetype": "text/x-python",
   "name": "python",
   "nbconvert_exporter": "python",
   "pygments_lexer": "ipython3",
   "version": "3.9.13"
  }
 },
 "nbformat": 4,
 "nbformat_minor": 5
}
